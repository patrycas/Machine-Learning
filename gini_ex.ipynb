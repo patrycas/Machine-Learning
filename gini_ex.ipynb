{
 "cells": [
  {
   "cell_type": "code",
   "execution_count": 42,
   "metadata": {},
   "outputs": [],
   "source": [
    "# Load libraries\n",
    "import json\n",
    "import numpy as np\n",
    "import pandas as pd\n",
    "from numpy import log2 as log\n"
   ]
  },
  {
   "cell_type": "code",
   "execution_count": 43,
   "metadata": {},
   "outputs": [],
   "source": [
    "with open('feature.txt') as json_file:\n",
    "    data = json.load(json_file)"
   ]
  },
  {
   "cell_type": "code",
   "execution_count": 44,
   "metadata": {},
   "outputs": [],
   "source": [
    "#dataframe\n",
    "df=pd.DataFrame(data)\n",
    "df=df.transpose() "
   ]
  },
  {
   "cell_type": "code",
   "execution_count": 45,
   "metadata": {},
   "outputs": [],
   "source": [
    "def gini(df,features,epsilon):\n",
    "    target=df.keys()[-1]\n",
    "    gini = 0\n",
    "    for i in df[features].unique():\n",
    "        gini_each_feature = 0\n",
    "        for j in df[target].unique():\n",
    "            numerator = len(df[features][df[features]==i][df[target] ==j]) #numerator\n",
    "            denominator = len(df[features][df[features]==i])  #denominator\n",
    "            emp_proba = numerator/(denominator+epsilon)    \n",
    "            # Epsilon is a values near to zero.This is useful to prevent the denominator from being zero\n",
    "            gini_each_feature += -emp_proba*(1-emp_proba)\n",
    "            \n",
    "        fraction2 = denominator/len(df)\n",
    "        gini += -fraction2*gini_each_feature   #Sums up all the entropy ETaste\n",
    "        #minimun=np.min(gini)\n",
    "        \n",
    "    return(gini)\n",
    "\n",
    "\n"
   ]
  },
  {
   "cell_type": "code",
   "execution_count": 47,
   "metadata": {},
   "outputs": [],
   "source": [
    "def min_impurity(df):\n",
    "    minimum = []\n",
    "    for key in df.keys()[:-1]:\n",
    "        minimum.append(gini(df,key,epsilon))\n",
    "    return df.keys()[:-1][np.argmin(minimum)]"
   ]
  },
  {
   "cell_type": "code",
   "execution_count": 48,
   "metadata": {},
   "outputs": [],
   "source": [
    "def get_subset(df, node,value):\n",
    "    return df[df[node] == value].reset_index(drop=True)"
   ]
  },
  {
   "cell_type": "code",
   "execution_count": 49,
   "metadata": {},
   "outputs": [],
   "source": [
    "def buildTree(df,epsilon,tree=None): \n",
    "    Class = df.keys()[-1]   \n",
    "    \n",
    "    #Here we build our decision tree\n",
    "\n",
    "    #Get attribute with minimum values \n",
    "    node = min_impurity(df)\n",
    "    \n",
    "    #Get distinct value of that attribute\n",
    "    attValue = np.unique(df[node])\n",
    "    \n",
    "    #Create an empty dictionary to create tree    \n",
    "    if tree is None:                    \n",
    "        tree={}\n",
    "        tree[node] = {}\n",
    "    \n",
    "   #We make loop to construct a tree by calling this function recursively. \n",
    "\n",
    "    for value in attValue:\n",
    "        subset = get_subset(df,node,value)\n",
    "        \n",
    "        clValue,counts = np.unique(subset['label'],return_counts=True)                        \n",
    "        if len(counts)==1:#Checking purity of subset\n",
    "            tree[node][value] = clValue[0]                                                    \n",
    "        else:        \n",
    "            tree[node][value] = buildTree(subset,epsilon) #Calling the function recursively \n",
    "                   \n",
    "    return tree"
   ]
  },
  {
   "cell_type": "code",
   "execution_count": 50,
   "metadata": {},
   "outputs": [],
   "source": [
    "\n",
    "epsilon = np.finfo(float).eps\n",
    "tree=buildTree(df,epsilon)"
   ]
  },
  {
   "cell_type": "code",
   "execution_count": 51,
   "metadata": {},
   "outputs": [
    {
     "data": {
      "text/plain": [
       "{'gills': {'no': {'length': {'3': 'yes',\n",
       "    '4': {'teeth': {'few': 'no', 'many': 'yes'}},\n",
       "    '5': 'yes'}},\n",
       "  'yes': 'no'}}"
      ]
     },
     "execution_count": 51,
     "metadata": {},
     "output_type": "execute_result"
    }
   ],
   "source": [
    "tree\n"
   ]
  }
 ],
 "metadata": {
  "kernelspec": {
   "display_name": "Python 3",
   "language": "python",
   "name": "python3"
  },
  "language_info": {
   "codemirror_mode": {
    "name": "ipython",
    "version": 3
   },
   "file_extension": ".py",
   "mimetype": "text/x-python",
   "name": "python",
   "nbconvert_exporter": "python",
   "pygments_lexer": "ipython3",
   "version": "3.7.4"
  }
 },
 "nbformat": 4,
 "nbformat_minor": 4
}
